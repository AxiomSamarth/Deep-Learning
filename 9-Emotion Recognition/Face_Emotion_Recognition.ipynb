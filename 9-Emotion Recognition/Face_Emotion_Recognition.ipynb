{
 "cells": [
  {
   "cell_type": "code",
   "execution_count": 1,
   "metadata": {},
   "outputs": [
    {
     "name": "stdout",
     "output_type": "stream",
     "text": [
      "hdf5 is not supported on this machine (please install/reinstall h5py for optimal experience)\n",
      "curses is not supported on this machine (please install/reinstall curses for an optimal experience)\n",
      "INFO:tensorflow:Restoring parameters from E:\\My_Arena\\PythonCodes\\Deep Learning with Neural Networks\\9-Emotion Recognition\\emotion-0.001-12conv-basic.model\n",
      "Model loaded!\n"
     ]
    }
   ],
   "source": [
    "#!/usr/bin/env python\n",
    "\n",
    "import numpy as np\n",
    "import cv2\n",
    "from emotions import find_emotion"
   ]
  },
  {
   "cell_type": "code",
   "execution_count": 2,
   "metadata": {
    "collapsed": true
   },
   "outputs": [],
   "source": [
    "detector= cv2.CascadeClassifier('haarcascade_frontalface_default.xml');\n",
    "#cap = cv2.VideoCapture(0);\n",
    "rec = cv2.face.createLBPHFaceRecognizer();\n",
    "rec.load(\"trainner/trainningData.yml\")\n",
    "#id=0;\n",
    "#font=cv2.InitFont(cv2.FONT_HERSHEY_COMPLEX_SMALL,5,1,0,4);\n",
    "#cv2.COLOR_BGR2GRAY"
   ]
  },
  {
   "cell_type": "code",
   "execution_count": 4,
   "metadata": {
    "collapsed": true
   },
   "outputs": [],
   "source": [
    "#images = ['rachana.png','highway_18.jpg', 'family.jpg', 'me_sisters.jpg', 'iitrpr.jpg', 'me_anusha_akka.jpg', 'sad.jpg', 'iisc.jpg']\n",
    "\n",
    "images = ['dummi.jpg']\n",
    "\n",
    "for image in images:\n",
    "    img = cv2.imread('Test/' + image)\n",
    "    gray = cv2.cvtColor(img, cv2.COLOR_BGR2GRAY)\n",
    "    faces = detector.detectMultiScale(gray, 1.3, 5)\n",
    "    for (x,y,w,h) in faces:\n",
    "        cv2.rectangle(img,(x,y),(x+w,y+h),(0,0,255),2)\n",
    "        roi = cv2.resize(gray[y:y+h,x:x+w], (48,48))\n",
    "        result = find_emotion(roi)\n",
    "        '''if(id==1):\n",
    "            id=\"SAGAR\"\n",
    "        elif(id==2):\n",
    "            id=\"VIGNESH\"\n",
    "        elif(id==3):\n",
    "            id=\"RAJKUMAR\"\n",
    "        elif(id==4):\n",
    "            id=\"Girish\"\n",
    "        else:\n",
    "            id=\"UNKNOWN\"\n",
    "        #cv2.putText(img,str(id),(x,y+h),font,255);'''\n",
    "        cv2.putText(img, result, (x,y+h),cv2.FONT_HERSHEY_COMPLEX_SMALL, 2, (255,255,255), 2);\n",
    "    cv2.imwrite('Detected_Images/'+image, img)\n",
    "    cv2.imshow('Emotion_Recognition',img)    \n",
    "    cv2.waitKey(0)\n",
    "    #cap.release()\n",
    "    cv2.destroyAllWindows()"
   ]
  },
  {
   "cell_type": "code",
   "execution_count": null,
   "metadata": {
    "collapsed": true
   },
   "outputs": [],
   "source": []
  }
 ],
 "metadata": {
  "kernelspec": {
   "display_name": "Python 3",
   "language": "python",
   "name": "python3"
  },
  "language_info": {
   "codemirror_mode": {
    "name": "ipython",
    "version": 3
   },
   "file_extension": ".py",
   "mimetype": "text/x-python",
   "name": "python",
   "nbconvert_exporter": "python",
   "pygments_lexer": "ipython3",
   "version": "3.5.3"
  }
 },
 "nbformat": 4,
 "nbformat_minor": 2
}
