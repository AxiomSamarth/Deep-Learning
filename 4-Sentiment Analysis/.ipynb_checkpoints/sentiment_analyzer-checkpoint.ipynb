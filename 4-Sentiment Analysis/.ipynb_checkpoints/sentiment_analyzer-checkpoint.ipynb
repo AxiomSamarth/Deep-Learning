{
 "cells": [
  {
   "cell_type": "code",
   "execution_count": 14,
   "metadata": {},
   "outputs": [],
   "source": [
    "import numpy as np\n",
    "import tflearn\n",
    "from tflearn.layers.conv import conv_2d, max_pool_2d\n",
    "from tflearn.layers.core import input_data, dropout, fully_connected\n",
    "from tflearn.layers.estimator import regression\n",
    "from random import shuffle\n",
    "import pickle\n",
    "from create_sentiment_featureset import create_feature_sets_and_labels, create_lexicon\n",
    "import os\n",
    "from nltk.tokenize import word_tokenize\n",
    "from nltk.stem import WordNetLemmatizer\n",
    "from __future__ import division"
   ]
  },
  {
   "cell_type": "code",
   "execution_count": 2,
   "metadata": {
    "collapsed": true
   },
   "outputs": [],
   "source": [
    "lemmatizer = WordNetLemmatizer()"
   ]
  },
  {
   "cell_type": "code",
   "execution_count": 3,
   "metadata": {
    "collapsed": true
   },
   "outputs": [],
   "source": [
    "LR = 1e-3\n",
    "MODEL_NAME = 'sentiment-{}-{}.model'.format(LR, '6conv-basic')"
   ]
  },
  {
   "cell_type": "code",
   "execution_count": 4,
   "metadata": {
    "collapsed": true
   },
   "outputs": [],
   "source": [
    "train_x, train_y, test_x, test_y = pickle.load(open('sentiment_set.pickle', 'rb'))"
   ]
  },
  {
   "cell_type": "code",
   "execution_count": 5,
   "metadata": {
    "collapsed": true
   },
   "outputs": [],
   "source": [
    "train_x = np.array(train_x).reshape(-1, 1, 423, 1)\n",
    "train_y = train_y\n",
    "test_x = np.array(test_x).reshape(-1, 1, 423, 1)\n",
    "test_y = test_y"
   ]
  },
  {
   "cell_type": "code",
   "execution_count": 6,
   "metadata": {
    "collapsed": true
   },
   "outputs": [],
   "source": [
    "convnet = input_data(shape=[None, 1, 423, 1], name='input')\n",
    "\n",
    "convnet = conv_2d(convnet, 32, 2, activation='relu')\n",
    "convnet = max_pool_2d(convnet, 2)\n",
    "\n",
    "convnet = conv_2d(convnet, 64, 2, activation='relu')\n",
    "convnet = max_pool_2d(convnet, 2)\n",
    "\n",
    "convnet = conv_2d(convnet, 32, 2, activation='relu')\n",
    "convnet = max_pool_2d(convnet, 2)\n",
    "\n",
    "convnet = conv_2d(convnet, 64, 2, activation='relu')\n",
    "convnet = max_pool_2d(convnet, 2)\n",
    "\n",
    "convnet = conv_2d(convnet, 32, 2, activation='relu')\n",
    "convnet = max_pool_2d(convnet, 2)\n",
    "\n",
    "convnet = conv_2d(convnet, 64, 2, activation='relu')\n",
    "convnet = max_pool_2d(convnet, 2)\n",
    "\n",
    "convnet = fully_connected(convnet, 1024, activation='relu')\n",
    "convnet = dropout(convnet, 0.8)\n",
    "\n",
    "convnet = fully_connected(convnet, 2, activation='softmax')\n",
    "convnet = regression(convnet, optimizer='adam', learning_rate=LR, loss='categorical_crossentropy', name='targets')\n",
    "\n",
    "model = tflearn.DNN(convnet, tensorboard_dir='log')"
   ]
  },
  {
   "cell_type": "code",
   "execution_count": 7,
   "metadata": {},
   "outputs": [
    {
     "name": "stdout",
     "output_type": "stream",
     "text": [
      "INFO:tensorflow:Restoring parameters from E:\\My Arena\\PythonCodes\\Deep Learning with Neural Networks\\4-Sentiment Analysis\\sentiment-0.001-6conv-basic.model\n",
      "Model loaded!\n"
     ]
    }
   ],
   "source": [
    "if os.path.exists(\"{}.meta\".format(MODEL_NAME)):\n",
    "    model.load(MODEL_NAME)\n",
    "    print('Model loaded!')"
   ]
  },
  {
   "cell_type": "code",
   "execution_count": 8,
   "metadata": {},
   "outputs": [
    {
     "name": "stdout",
     "output_type": "stream",
     "text": [
      "(9596, 1, 423, 1)\n"
     ]
    }
   ],
   "source": [
    "X = train_x\n",
    "Y = train_y\n",
    "print(X.shape)"
   ]
  },
  {
   "cell_type": "code",
   "execution_count": 9,
   "metadata": {
    "collapsed": true,
    "scrolled": false
   },
   "outputs": [],
   "source": [
    "#model.fit({'input': X}, {'targets': Y}, n_epoch=25, validation_set=({'input': test_x}, {'targets': test_y}),snapshot_step=500, show_metric=True, run_id=MODEL_NAME)\n",
    "#model.save(MODEL_NAME)"
   ]
  },
  {
   "cell_type": "code",
   "execution_count": 10,
   "metadata": {
    "collapsed": true
   },
   "outputs": [],
   "source": [
    "def process_prediction_sample(sentence):\n",
    "    words = word_tokenize(sentence)\n",
    "    words = [lemmatizer.lemmatize(i) for i in words]\n",
    "    \n",
    "    lexicon = pickle.load(open('lexicon.pickle','rb'))\n",
    "    #print(type(lexicon))\n",
    "    \n",
    "    features = np.zeros(len(lexicon))\n",
    "    for word in words:\n",
    "        if word.lower() in lexicon:\n",
    "            index_value = lexicon.index(word.lower())\n",
    "            features[index_value] = 1\n",
    "    \n",
    "    return features"
   ]
  },
  {
   "cell_type": "code",
   "execution_count": 11,
   "metadata": {
    "collapsed": true
   },
   "outputs": [],
   "source": [
    "# uncomment the commented section to predict the sentiment for a single input statement\n",
    "# input_data = \"Sentiment Analyzer is working fine.\"\n",
    "# features = process_prediction_sample(input_data)\n",
    "# features = np.array(features).reshape(-1, 1,423,1)"
   ]
  },
  {
   "cell_type": "code",
   "execution_count": 12,
   "metadata": {},
   "outputs": [
    {
     "name": "stdout",
     "output_type": "stream",
     "text": [
      "[0.9994421601295471, 0.0005578814307227731]\n"
     ]
    }
   ],
   "source": [
    "# model_out = model.predict(features)[0]\n",
    "# print (model_out)\n",
    "# if np.argmax(model_out) == 0:\n",
    "#    str_label = 'Positive'\n",
    "# else:\n",
    "#    str_label = 'Negative'"
   ]
  },
  {
   "cell_type": "code",
   "execution_count": 13,
   "metadata": {},
   "outputs": [
    {
     "name": "stdout",
     "output_type": "stream",
     "text": [
      "Positive\n"
     ]
    }
   ],
   "source": [
    "print(str_label)"
   ]
  },
  {
   "cell_type": "code",
   "execution_count": 20,
   "metadata": {
    "collapsed": true
   },
   "outputs": [],
   "source": [
    "def custom_accuracy_check():\n",
    "    test_data = []\n",
    "    for file in ['pos.txt', 'neg.txt']:\n",
    "        with open(file, 'r') as f:\n",
    "            lines = f.readlines()\n",
    "            for line in lines:\n",
    "                test_data.append([line, file[:3]])\n",
    "    \n",
    "    shuffle(test_data)\n",
    "    test_data = test_data[:5000]\n",
    "    correct = 0\n",
    "    total = len(test_data)\n",
    "    for data in test_data:\n",
    "        features = process_prediction_sample(data[0])\n",
    "        label = data[1]\n",
    "        features = np.array(features).reshape(-1, 1,423,1)\n",
    "        \n",
    "        model_out = model.predict(features)[0]\n",
    "        if np.argmax(model_out) == 0:\n",
    "            str_label = 'pos'\n",
    "        else:\n",
    "            str_label = 'neg'\n",
    "        \n",
    "        if label == str_label:\n",
    "            correct += 1\n",
    "    \n",
    "    print (\"The percentage accuracy is\",(correct/total)*100)        \n",
    "        "
   ]
  },
  {
   "cell_type": "code",
   "execution_count": 21,
   "metadata": {},
   "outputs": [
    {
     "name": "stdout",
     "output_type": "stream",
     "text": [
      "The percentage accuracy is 93.14\n"
     ]
    }
   ],
   "source": [
    "custom_accuracy_check()"
   ]
  },
  {
   "cell_type": "code",
   "execution_count": null,
   "metadata": {
    "collapsed": true
   },
   "outputs": [],
   "source": []
  }
 ],
 "metadata": {
  "kernelspec": {
   "display_name": "Python 3",
   "language": "python",
   "name": "python3"
  },
  "language_info": {
   "codemirror_mode": {
    "name": "ipython",
    "version": 3
   },
   "file_extension": ".py",
   "mimetype": "text/x-python",
   "name": "python",
   "nbconvert_exporter": "python",
   "pygments_lexer": "ipython3",
   "version": "3.5.3"
  }
 },
 "nbformat": 4,
 "nbformat_minor": 2
}
